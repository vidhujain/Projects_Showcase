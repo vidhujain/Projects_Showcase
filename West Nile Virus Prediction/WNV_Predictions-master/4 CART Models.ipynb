{
 "cells": [
  {
   "cell_type": "code",
   "execution_count": 3,
   "metadata": {},
   "outputs": [],
   "source": [
    "import pandas as pd\n",
    "import matplotlib.pyplot as plt\n",
    "import seaborn as sns\n",
    "\n",
    "from math import radians, sin, cos, asin, sqrt\n",
    "from sklearn.metrics import confusion_matrix, roc_curve, auc\n",
    "import numpy as np\n",
    "import patsy\n",
    "\n",
    "from sklearn.linear_model import Ridge, Lasso, ElasticNet, LinearRegression, RidgeCV, LassoCV, ElasticNetCV, LogisticRegression\n",
    "from sklearn.model_selection import train_test_split, cross_val_score, cross_val_predict,StratifiedKFold\n",
    "from sklearn.ensemble import GradientBoostingClassifier, RandomForestClassifier\n",
    "from sklearn.metrics import r2_score,mean_squared_error\n",
    "from statsmodels.formula.api import ols\n",
    "from sklearn.preprocessing import StandardScaler, PolynomialFeatures\n",
    "import matplotlib\n",
    "import matplotlib.pyplot as plt\n",
    "import seaborn as sns\n",
    "import math\n",
    "\n",
    "%matplotlib inline"
   ]
  },
  {
   "cell_type": "code",
   "execution_count": 27,
   "metadata": {},
   "outputs": [],
   "source": [
    "from sklearn.model_selection import cross_val_score, StratifiedKFold\n",
    "from sklearn.model_selection import GridSearchCV\n",
    "import xgboost as xgb\n",
    "\n",
    "from sklearn.tree import DecisionTreeClassifier\n",
    "from sklearn.ensemble import RandomForestClassifier, ExtraTreesClassifier, BaggingClassifier\n",
    "from sklearn.ensemble import AdaBoostClassifier, GradientBoostingClassifier"
   ]
  },
  {
   "cell_type": "markdown",
   "metadata": {},
   "source": [
    "### Data Imports"
   ]
  },
  {
   "cell_type": "code",
   "execution_count": 59,
   "metadata": {},
   "outputs": [],
   "source": [
    "clean_train = pd.read_csv(r'./datasets/clean_train.csv')\n",
    "clean_test = pd.read_csv(r'./datasets/clean_test.csv')"
   ]
  },
  {
   "cell_type": "code",
   "execution_count": 88,
   "metadata": {},
   "outputs": [],
   "source": [
    "test = pd.read_csv(r'./datasets/test.csv')"
   ]
  },
  {
   "cell_type": "code",
   "execution_count": 61,
   "metadata": {},
   "outputs": [
    {
     "data": {
      "text/html": [
       "<div>\n",
       "<style scoped>\n",
       "    .dataframe tbody tr th:only-of-type {\n",
       "        vertical-align: middle;\n",
       "    }\n",
       "\n",
       "    .dataframe tbody tr th {\n",
       "        vertical-align: top;\n",
       "    }\n",
       "\n",
       "    .dataframe thead th {\n",
       "        text-align: right;\n",
       "    }\n",
       "</style>\n",
       "<table border=\"1\" class=\"dataframe\">\n",
       "  <thead>\n",
       "    <tr style=\"text-align: right;\">\n",
       "      <th></th>\n",
       "      <th>Unnamed: 0</th>\n",
       "      <th>Date</th>\n",
       "      <th>Address</th>\n",
       "      <th>Station</th>\n",
       "      <th>NumMosquitos</th>\n",
       "      <th>WnvPresent</th>\n",
       "      <th>CULEX ERRATICUS</th>\n",
       "      <th>CULEX PIPIENS</th>\n",
       "      <th>CULEX RESTUANS</th>\n",
       "      <th>CULEX SALINARIUS</th>\n",
       "      <th>...</th>\n",
       "      <th>Tmax</th>\n",
       "      <th>Tmin</th>\n",
       "      <th>Tavg</th>\n",
       "      <th>DewPoint</th>\n",
       "      <th>WetBulb</th>\n",
       "      <th>PrecipTotal</th>\n",
       "      <th>StnPressure</th>\n",
       "      <th>ResultSpeed</th>\n",
       "      <th>ResultDir</th>\n",
       "      <th>AvgSpeed</th>\n",
       "    </tr>\n",
       "  </thead>\n",
       "  <tbody>\n",
       "    <tr>\n",
       "      <th>0</th>\n",
       "      <td>0</td>\n",
       "      <td>2007-05-29</td>\n",
       "      <td>4100 North Oak Park Avenue, Chicago, IL 60634,...</td>\n",
       "      <td>1</td>\n",
       "      <td>1</td>\n",
       "      <td>0</td>\n",
       "      <td>0</td>\n",
       "      <td>1</td>\n",
       "      <td>1</td>\n",
       "      <td>0</td>\n",
       "      <td>...</td>\n",
       "      <td>88</td>\n",
       "      <td>60</td>\n",
       "      <td>74.0</td>\n",
       "      <td>58</td>\n",
       "      <td>65</td>\n",
       "      <td>0.0</td>\n",
       "      <td>29.39</td>\n",
       "      <td>5.8</td>\n",
       "      <td>18</td>\n",
       "      <td>6.5</td>\n",
       "    </tr>\n",
       "    <tr>\n",
       "      <th>1</th>\n",
       "      <td>1</td>\n",
       "      <td>2007-05-29</td>\n",
       "      <td>4100 North Oak Park Avenue, Chicago, IL 60634,...</td>\n",
       "      <td>1</td>\n",
       "      <td>1</td>\n",
       "      <td>0</td>\n",
       "      <td>0</td>\n",
       "      <td>0</td>\n",
       "      <td>1</td>\n",
       "      <td>0</td>\n",
       "      <td>...</td>\n",
       "      <td>88</td>\n",
       "      <td>60</td>\n",
       "      <td>74.0</td>\n",
       "      <td>58</td>\n",
       "      <td>65</td>\n",
       "      <td>0.0</td>\n",
       "      <td>29.39</td>\n",
       "      <td>5.8</td>\n",
       "      <td>18</td>\n",
       "      <td>6.5</td>\n",
       "    </tr>\n",
       "    <tr>\n",
       "      <th>2</th>\n",
       "      <td>2</td>\n",
       "      <td>2007-05-29</td>\n",
       "      <td>6200 North Mandell Avenue, Chicago, IL 60646, USA</td>\n",
       "      <td>1</td>\n",
       "      <td>1</td>\n",
       "      <td>0</td>\n",
       "      <td>0</td>\n",
       "      <td>0</td>\n",
       "      <td>1</td>\n",
       "      <td>0</td>\n",
       "      <td>...</td>\n",
       "      <td>88</td>\n",
       "      <td>60</td>\n",
       "      <td>74.0</td>\n",
       "      <td>58</td>\n",
       "      <td>65</td>\n",
       "      <td>0.0</td>\n",
       "      <td>29.39</td>\n",
       "      <td>5.8</td>\n",
       "      <td>18</td>\n",
       "      <td>6.5</td>\n",
       "    </tr>\n",
       "    <tr>\n",
       "      <th>3</th>\n",
       "      <td>3</td>\n",
       "      <td>2007-05-29</td>\n",
       "      <td>7900 West Foster Avenue, Chicago, IL 60656, USA</td>\n",
       "      <td>1</td>\n",
       "      <td>1</td>\n",
       "      <td>0</td>\n",
       "      <td>0</td>\n",
       "      <td>1</td>\n",
       "      <td>1</td>\n",
       "      <td>0</td>\n",
       "      <td>...</td>\n",
       "      <td>88</td>\n",
       "      <td>60</td>\n",
       "      <td>74.0</td>\n",
       "      <td>58</td>\n",
       "      <td>65</td>\n",
       "      <td>0.0</td>\n",
       "      <td>29.39</td>\n",
       "      <td>5.8</td>\n",
       "      <td>18</td>\n",
       "      <td>6.5</td>\n",
       "    </tr>\n",
       "    <tr>\n",
       "      <th>4</th>\n",
       "      <td>4</td>\n",
       "      <td>2007-05-29</td>\n",
       "      <td>7900 West Foster Avenue, Chicago, IL 60656, USA</td>\n",
       "      <td>1</td>\n",
       "      <td>4</td>\n",
       "      <td>0</td>\n",
       "      <td>0</td>\n",
       "      <td>0</td>\n",
       "      <td>1</td>\n",
       "      <td>0</td>\n",
       "      <td>...</td>\n",
       "      <td>88</td>\n",
       "      <td>60</td>\n",
       "      <td>74.0</td>\n",
       "      <td>58</td>\n",
       "      <td>65</td>\n",
       "      <td>0.0</td>\n",
       "      <td>29.39</td>\n",
       "      <td>5.8</td>\n",
       "      <td>18</td>\n",
       "      <td>6.5</td>\n",
       "    </tr>\n",
       "  </tbody>\n",
       "</table>\n",
       "<p>5 rows × 164 columns</p>\n",
       "</div>"
      ],
      "text/plain": [
       "   Unnamed: 0        Date                                            Address  \\\n",
       "0           0  2007-05-29  4100 North Oak Park Avenue, Chicago, IL 60634,...   \n",
       "1           1  2007-05-29  4100 North Oak Park Avenue, Chicago, IL 60634,...   \n",
       "2           2  2007-05-29  6200 North Mandell Avenue, Chicago, IL 60646, USA   \n",
       "3           3  2007-05-29    7900 West Foster Avenue, Chicago, IL 60656, USA   \n",
       "4           4  2007-05-29    7900 West Foster Avenue, Chicago, IL 60656, USA   \n",
       "\n",
       "   Station  NumMosquitos  WnvPresent  CULEX ERRATICUS  CULEX PIPIENS  \\\n",
       "0        1             1           0                0              1   \n",
       "1        1             1           0                0              0   \n",
       "2        1             1           0                0              0   \n",
       "3        1             1           0                0              1   \n",
       "4        1             4           0                0              0   \n",
       "\n",
       "   CULEX RESTUANS  CULEX SALINARIUS  ...  Tmax  Tmin  Tavg  DewPoint  WetBulb  \\\n",
       "0               1                 0  ...    88    60  74.0        58       65   \n",
       "1               1                 0  ...    88    60  74.0        58       65   \n",
       "2               1                 0  ...    88    60  74.0        58       65   \n",
       "3               1                 0  ...    88    60  74.0        58       65   \n",
       "4               1                 0  ...    88    60  74.0        58       65   \n",
       "\n",
       "   PrecipTotal  StnPressure  ResultSpeed  ResultDir  AvgSpeed  \n",
       "0          0.0        29.39          5.8         18       6.5  \n",
       "1          0.0        29.39          5.8         18       6.5  \n",
       "2          0.0        29.39          5.8         18       6.5  \n",
       "3          0.0        29.39          5.8         18       6.5  \n",
       "4          0.0        29.39          5.8         18       6.5  \n",
       "\n",
       "[5 rows x 164 columns]"
      ]
     },
     "execution_count": 61,
     "metadata": {},
     "output_type": "execute_result"
    }
   ],
   "source": [
    "clean_train.head()"
   ]
  },
  {
   "cell_type": "code",
   "execution_count": 62,
   "metadata": {},
   "outputs": [
    {
     "data": {
      "text/html": [
       "<div>\n",
       "<style scoped>\n",
       "    .dataframe tbody tr th:only-of-type {\n",
       "        vertical-align: middle;\n",
       "    }\n",
       "\n",
       "    .dataframe tbody tr th {\n",
       "        vertical-align: top;\n",
       "    }\n",
       "\n",
       "    .dataframe thead th {\n",
       "        text-align: right;\n",
       "    }\n",
       "</style>\n",
       "<table border=\"1\" class=\"dataframe\">\n",
       "  <thead>\n",
       "    <tr style=\"text-align: right;\">\n",
       "      <th></th>\n",
       "      <th>Unnamed: 0</th>\n",
       "      <th>Id</th>\n",
       "      <th>Date</th>\n",
       "      <th>Address</th>\n",
       "      <th>Block</th>\n",
       "      <th>Street</th>\n",
       "      <th>AddressNumberAndStreet</th>\n",
       "      <th>Latitude</th>\n",
       "      <th>Longitude</th>\n",
       "      <th>AddressAccuracy</th>\n",
       "      <th>...</th>\n",
       "      <th>Tmax</th>\n",
       "      <th>Tmin</th>\n",
       "      <th>Tavg</th>\n",
       "      <th>DewPoint</th>\n",
       "      <th>WetBulb</th>\n",
       "      <th>PrecipTotal</th>\n",
       "      <th>StnPressure</th>\n",
       "      <th>ResultSpeed</th>\n",
       "      <th>ResultDir</th>\n",
       "      <th>AvgSpeed</th>\n",
       "    </tr>\n",
       "  </thead>\n",
       "  <tbody>\n",
       "    <tr>\n",
       "      <th>0</th>\n",
       "      <td>0</td>\n",
       "      <td>1</td>\n",
       "      <td>2008-06-11</td>\n",
       "      <td>4100 North Oak Park Avenue, Chicago, IL 60634,...</td>\n",
       "      <td>41</td>\n",
       "      <td>N OAK PARK AVE</td>\n",
       "      <td>4100  N OAK PARK AVE, Chicago, IL</td>\n",
       "      <td>41.95469</td>\n",
       "      <td>-87.800991</td>\n",
       "      <td>9</td>\n",
       "      <td>...</td>\n",
       "      <td>NaN</td>\n",
       "      <td>NaN</td>\n",
       "      <td>NaN</td>\n",
       "      <td>NaN</td>\n",
       "      <td>NaN</td>\n",
       "      <td>NaN</td>\n",
       "      <td>NaN</td>\n",
       "      <td>NaN</td>\n",
       "      <td>NaN</td>\n",
       "      <td>NaN</td>\n",
       "    </tr>\n",
       "    <tr>\n",
       "      <th>1</th>\n",
       "      <td>1</td>\n",
       "      <td>2</td>\n",
       "      <td>2008-06-11</td>\n",
       "      <td>4100 North Oak Park Avenue, Chicago, IL 60634,...</td>\n",
       "      <td>41</td>\n",
       "      <td>N OAK PARK AVE</td>\n",
       "      <td>4100  N OAK PARK AVE, Chicago, IL</td>\n",
       "      <td>41.95469</td>\n",
       "      <td>-87.800991</td>\n",
       "      <td>9</td>\n",
       "      <td>...</td>\n",
       "      <td>NaN</td>\n",
       "      <td>NaN</td>\n",
       "      <td>NaN</td>\n",
       "      <td>NaN</td>\n",
       "      <td>NaN</td>\n",
       "      <td>NaN</td>\n",
       "      <td>NaN</td>\n",
       "      <td>NaN</td>\n",
       "      <td>NaN</td>\n",
       "      <td>NaN</td>\n",
       "    </tr>\n",
       "    <tr>\n",
       "      <th>2</th>\n",
       "      <td>2</td>\n",
       "      <td>3</td>\n",
       "      <td>2008-06-11</td>\n",
       "      <td>4100 North Oak Park Avenue, Chicago, IL 60634,...</td>\n",
       "      <td>41</td>\n",
       "      <td>N OAK PARK AVE</td>\n",
       "      <td>4100  N OAK PARK AVE, Chicago, IL</td>\n",
       "      <td>41.95469</td>\n",
       "      <td>-87.800991</td>\n",
       "      <td>9</td>\n",
       "      <td>...</td>\n",
       "      <td>NaN</td>\n",
       "      <td>NaN</td>\n",
       "      <td>NaN</td>\n",
       "      <td>NaN</td>\n",
       "      <td>NaN</td>\n",
       "      <td>NaN</td>\n",
       "      <td>NaN</td>\n",
       "      <td>NaN</td>\n",
       "      <td>NaN</td>\n",
       "      <td>NaN</td>\n",
       "    </tr>\n",
       "    <tr>\n",
       "      <th>3</th>\n",
       "      <td>3</td>\n",
       "      <td>4</td>\n",
       "      <td>2008-06-11</td>\n",
       "      <td>4100 North Oak Park Avenue, Chicago, IL 60634,...</td>\n",
       "      <td>41</td>\n",
       "      <td>N OAK PARK AVE</td>\n",
       "      <td>4100  N OAK PARK AVE, Chicago, IL</td>\n",
       "      <td>41.95469</td>\n",
       "      <td>-87.800991</td>\n",
       "      <td>9</td>\n",
       "      <td>...</td>\n",
       "      <td>NaN</td>\n",
       "      <td>NaN</td>\n",
       "      <td>NaN</td>\n",
       "      <td>NaN</td>\n",
       "      <td>NaN</td>\n",
       "      <td>NaN</td>\n",
       "      <td>NaN</td>\n",
       "      <td>NaN</td>\n",
       "      <td>NaN</td>\n",
       "      <td>NaN</td>\n",
       "    </tr>\n",
       "    <tr>\n",
       "      <th>4</th>\n",
       "      <td>4</td>\n",
       "      <td>5</td>\n",
       "      <td>2008-06-11</td>\n",
       "      <td>4100 North Oak Park Avenue, Chicago, IL 60634,...</td>\n",
       "      <td>41</td>\n",
       "      <td>N OAK PARK AVE</td>\n",
       "      <td>4100  N OAK PARK AVE, Chicago, IL</td>\n",
       "      <td>41.95469</td>\n",
       "      <td>-87.800991</td>\n",
       "      <td>9</td>\n",
       "      <td>...</td>\n",
       "      <td>NaN</td>\n",
       "      <td>NaN</td>\n",
       "      <td>NaN</td>\n",
       "      <td>NaN</td>\n",
       "      <td>NaN</td>\n",
       "      <td>NaN</td>\n",
       "      <td>NaN</td>\n",
       "      <td>NaN</td>\n",
       "      <td>NaN</td>\n",
       "      <td>NaN</td>\n",
       "    </tr>\n",
       "  </tbody>\n",
       "</table>\n",
       "<p>5 rows × 183 columns</p>\n",
       "</div>"
      ],
      "text/plain": [
       "   Unnamed: 0  Id        Date  \\\n",
       "0           0   1  2008-06-11   \n",
       "1           1   2  2008-06-11   \n",
       "2           2   3  2008-06-11   \n",
       "3           3   4  2008-06-11   \n",
       "4           4   5  2008-06-11   \n",
       "\n",
       "                                             Address  Block           Street  \\\n",
       "0  4100 North Oak Park Avenue, Chicago, IL 60634,...     41   N OAK PARK AVE   \n",
       "1  4100 North Oak Park Avenue, Chicago, IL 60634,...     41   N OAK PARK AVE   \n",
       "2  4100 North Oak Park Avenue, Chicago, IL 60634,...     41   N OAK PARK AVE   \n",
       "3  4100 North Oak Park Avenue, Chicago, IL 60634,...     41   N OAK PARK AVE   \n",
       "4  4100 North Oak Park Avenue, Chicago, IL 60634,...     41   N OAK PARK AVE   \n",
       "\n",
       "              AddressNumberAndStreet  Latitude  Longitude  AddressAccuracy  \\\n",
       "0  4100  N OAK PARK AVE, Chicago, IL  41.95469 -87.800991                9   \n",
       "1  4100  N OAK PARK AVE, Chicago, IL  41.95469 -87.800991                9   \n",
       "2  4100  N OAK PARK AVE, Chicago, IL  41.95469 -87.800991                9   \n",
       "3  4100  N OAK PARK AVE, Chicago, IL  41.95469 -87.800991                9   \n",
       "4  4100  N OAK PARK AVE, Chicago, IL  41.95469 -87.800991                9   \n",
       "\n",
       "   ...  Tmax  Tmin  Tavg  DewPoint  WetBulb  PrecipTotal  StnPressure  \\\n",
       "0  ...   NaN   NaN   NaN       NaN      NaN          NaN          NaN   \n",
       "1  ...   NaN   NaN   NaN       NaN      NaN          NaN          NaN   \n",
       "2  ...   NaN   NaN   NaN       NaN      NaN          NaN          NaN   \n",
       "3  ...   NaN   NaN   NaN       NaN      NaN          NaN          NaN   \n",
       "4  ...   NaN   NaN   NaN       NaN      NaN          NaN          NaN   \n",
       "\n",
       "   ResultSpeed  ResultDir  AvgSpeed  \n",
       "0          NaN        NaN       NaN  \n",
       "1          NaN        NaN       NaN  \n",
       "2          NaN        NaN       NaN  \n",
       "3          NaN        NaN       NaN  \n",
       "4          NaN        NaN       NaN  \n",
       "\n",
       "[5 rows x 183 columns]"
      ]
     },
     "execution_count": 62,
     "metadata": {},
     "output_type": "execute_result"
    }
   ],
   "source": [
    "clean_test.head()"
   ]
  },
  {
   "cell_type": "code",
   "execution_count": 64,
   "metadata": {},
   "outputs": [],
   "source": [
    "clean_train.drop('Unnamed: 0',axis = 1, inplace = True)\n",
    "clean_test.drop('Unnamed: 0',axis = 1, inplace = True)"
   ]
  },
  {
   "cell_type": "code",
   "execution_count": 66,
   "metadata": {},
   "outputs": [
    {
     "data": {
      "text/plain": [
       "(8475, 163)"
      ]
     },
     "execution_count": 66,
     "metadata": {},
     "output_type": "execute_result"
    }
   ],
   "source": [
    "clean_train.shape"
   ]
  },
  {
   "cell_type": "code",
   "execution_count": 67,
   "metadata": {},
   "outputs": [
    {
     "data": {
      "text/plain": [
       "0"
      ]
     },
     "execution_count": 67,
     "metadata": {},
     "output_type": "execute_result"
    }
   ],
   "source": [
    "clean_train.isnull().sum().sum()"
   ]
  },
  {
   "cell_type": "markdown",
   "metadata": {},
   "source": [
    "### Model Selection"
   ]
  },
  {
   "cell_type": "code",
   "execution_count": 68,
   "metadata": {},
   "outputs": [
    {
     "data": {
      "text/plain": [
       "['Station',\n",
       " 'CULEX ERRATICUS',\n",
       " 'CULEX PIPIENS',\n",
       " 'CULEX RESTUANS',\n",
       " 'CULEX SALINARIUS',\n",
       " 'CULEX TARSALIS',\n",
       " 'CULEX TERRITANS',\n",
       " 'Bias',\n",
       " 'year',\n",
       " 'month',\n",
       " 'day',\n",
       " 'week',\n",
       " 'Trap_T001',\n",
       " 'Trap_T002',\n",
       " 'Trap_T003',\n",
       " 'Trap_T004',\n",
       " 'Trap_T005',\n",
       " 'Trap_T006',\n",
       " 'Trap_T007',\n",
       " 'Trap_T008',\n",
       " 'Trap_T009',\n",
       " 'Trap_T011',\n",
       " 'Trap_T012',\n",
       " 'Trap_T013',\n",
       " 'Trap_T014',\n",
       " 'Trap_T015',\n",
       " 'Trap_T016',\n",
       " 'Trap_T017',\n",
       " 'Trap_T018',\n",
       " 'Trap_T019',\n",
       " 'Trap_T025',\n",
       " 'Trap_T027',\n",
       " 'Trap_T028',\n",
       " 'Trap_T030',\n",
       " 'Trap_T031',\n",
       " 'Trap_T033',\n",
       " 'Trap_T034',\n",
       " 'Trap_T035',\n",
       " 'Trap_T036',\n",
       " 'Trap_T037',\n",
       " 'Trap_T039',\n",
       " 'Trap_T040',\n",
       " 'Trap_T043',\n",
       " 'Trap_T044',\n",
       " 'Trap_T045',\n",
       " 'Trap_T046',\n",
       " 'Trap_T047',\n",
       " 'Trap_T048',\n",
       " 'Trap_T049',\n",
       " 'Trap_T050',\n",
       " 'Trap_T051',\n",
       " 'Trap_T054',\n",
       " 'Trap_T054C',\n",
       " 'Trap_T060',\n",
       " 'Trap_T061',\n",
       " 'Trap_T062',\n",
       " 'Trap_T063',\n",
       " 'Trap_T065',\n",
       " 'Trap_T066',\n",
       " 'Trap_T067',\n",
       " 'Trap_T069',\n",
       " 'Trap_T070',\n",
       " 'Trap_T071',\n",
       " 'Trap_T072',\n",
       " 'Trap_T073',\n",
       " 'Trap_T074',\n",
       " 'Trap_T075',\n",
       " 'Trap_T076',\n",
       " 'Trap_T077',\n",
       " 'Trap_T078',\n",
       " 'Trap_T079',\n",
       " 'Trap_T080',\n",
       " 'Trap_T081',\n",
       " 'Trap_T082',\n",
       " 'Trap_T083',\n",
       " 'Trap_T084',\n",
       " 'Trap_T085',\n",
       " 'Trap_T086',\n",
       " 'Trap_T088',\n",
       " 'Trap_T089',\n",
       " 'Trap_T090',\n",
       " 'Trap_T091',\n",
       " 'Trap_T092',\n",
       " 'Trap_T094',\n",
       " 'Trap_T094B',\n",
       " 'Trap_T095',\n",
       " 'Trap_T096',\n",
       " 'Trap_T097',\n",
       " 'Trap_T099',\n",
       " 'Trap_T100',\n",
       " 'Trap_T102',\n",
       " 'Trap_T103',\n",
       " 'Trap_T107',\n",
       " 'Trap_T114',\n",
       " 'Trap_T115',\n",
       " 'Trap_T128',\n",
       " 'Trap_T129',\n",
       " 'Trap_T135',\n",
       " 'Trap_T138',\n",
       " 'Trap_T141',\n",
       " 'Trap_T142',\n",
       " 'Trap_T143',\n",
       " 'Trap_T144',\n",
       " 'Trap_T145',\n",
       " 'Trap_T146',\n",
       " 'Trap_T147',\n",
       " 'Trap_T148',\n",
       " 'Trap_T149',\n",
       " 'Trap_T150',\n",
       " 'Trap_T151',\n",
       " 'Trap_T152',\n",
       " 'Trap_T153',\n",
       " 'Trap_T154',\n",
       " 'Trap_T155',\n",
       " 'Trap_T156',\n",
       " 'Trap_T157',\n",
       " 'Trap_T158',\n",
       " 'Trap_T159',\n",
       " 'Trap_T160',\n",
       " 'Trap_T161',\n",
       " 'Trap_T162',\n",
       " 'Trap_T200',\n",
       " 'Trap_T206',\n",
       " 'Trap_T209',\n",
       " 'Trap_T212',\n",
       " 'Trap_T215',\n",
       " 'Trap_T218',\n",
       " 'Trap_T219',\n",
       " 'Trap_T220',\n",
       " 'Trap_T221',\n",
       " 'Trap_T222',\n",
       " 'Trap_T223',\n",
       " 'Trap_T224',\n",
       " 'Trap_T225',\n",
       " 'Trap_T226',\n",
       " 'Trap_T227',\n",
       " 'Trap_T228',\n",
       " 'Trap_T229',\n",
       " 'Trap_T230',\n",
       " 'Trap_T231',\n",
       " 'Trap_T232',\n",
       " 'Trap_T233',\n",
       " 'Trap_T235',\n",
       " 'Trap_T236',\n",
       " 'Trap_T237',\n",
       " 'Trap_T238',\n",
       " 'Trap_T900',\n",
       " 'Trap_T903',\n",
       " 'index',\n",
       " 'Tmax',\n",
       " 'Tmin',\n",
       " 'Tavg',\n",
       " 'DewPoint',\n",
       " 'WetBulb',\n",
       " 'PrecipTotal',\n",
       " 'StnPressure',\n",
       " 'ResultSpeed',\n",
       " 'ResultDir',\n",
       " 'AvgSpeed']"
      ]
     },
     "execution_count": 68,
     "metadata": {},
     "output_type": "execute_result"
    }
   ],
   "source": [
    "features = [x for x in clean_train.columns if (x != 'NumMosquitos') and (x != 'WnvPresent') and (x!='Date') and (x != 'Address')]\n",
    "features"
   ]
  },
  {
   "cell_type": "code",
   "execution_count": 69,
   "metadata": {},
   "outputs": [],
   "source": [
    "clean_test[:] = np.nan_to_num(clean_test)"
   ]
  },
  {
   "cell_type": "code",
   "execution_count": 70,
   "metadata": {},
   "outputs": [],
   "source": [
    "clean_test.fillna(0, inplace=True)"
   ]
  },
  {
   "cell_type": "code",
   "execution_count": 71,
   "metadata": {},
   "outputs": [
    {
     "data": {
      "text/html": [
       "<div>\n",
       "<style scoped>\n",
       "    .dataframe tbody tr th:only-of-type {\n",
       "        vertical-align: middle;\n",
       "    }\n",
       "\n",
       "    .dataframe tbody tr th {\n",
       "        vertical-align: top;\n",
       "    }\n",
       "\n",
       "    .dataframe thead th {\n",
       "        text-align: right;\n",
       "    }\n",
       "</style>\n",
       "<table border=\"1\" class=\"dataframe\">\n",
       "  <thead>\n",
       "    <tr style=\"text-align: right;\">\n",
       "      <th></th>\n",
       "    </tr>\n",
       "  </thead>\n",
       "  <tbody>\n",
       "  </tbody>\n",
       "</table>\n",
       "</div>"
      ],
      "text/plain": [
       "Empty DataFrame\n",
       "Columns: []\n",
       "Index: []"
      ]
     },
     "execution_count": 71,
     "metadata": {},
     "output_type": "execute_result"
    }
   ],
   "source": [
    "col_mask=clean_test.isnull().any(axis=0) \n",
    "row_mask=clean_test.isnull().any(axis=1)\n",
    "clean_test.loc[row_mask,col_mask]"
   ]
  },
  {
   "cell_type": "code",
   "execution_count": 72,
   "metadata": {},
   "outputs": [
    {
     "data": {
      "text/plain": [
       "Station               int64\n",
       "CULEX ERRATICUS       int64\n",
       "CULEX PIPIENS         int64\n",
       "CULEX RESTUANS        int64\n",
       "CULEX SALINARIUS      int64\n",
       "CULEX TARSALIS        int64\n",
       "CULEX TERRITANS       int64\n",
       "Bias                float64\n",
       "year                  int64\n",
       "month                 int64\n",
       "day                   int64\n",
       "week                  int64\n",
       "Trap_T001             int64\n",
       "Trap_T002             int64\n",
       "Trap_T003             int64\n",
       "Trap_T004             int64\n",
       "Trap_T005             int64\n",
       "Trap_T006             int64\n",
       "Trap_T007             int64\n",
       "Trap_T008             int64\n",
       "Trap_T009             int64\n",
       "Trap_T011             int64\n",
       "Trap_T012             int64\n",
       "Trap_T013             int64\n",
       "Trap_T014             int64\n",
       "Trap_T015             int64\n",
       "Trap_T016             int64\n",
       "Trap_T017             int64\n",
       "Trap_T018             int64\n",
       "Trap_T019             int64\n",
       "                     ...   \n",
       "Trap_T221             int64\n",
       "Trap_T222             int64\n",
       "Trap_T223             int64\n",
       "Trap_T224             int64\n",
       "Trap_T225             int64\n",
       "Trap_T226             int64\n",
       "Trap_T227             int64\n",
       "Trap_T228             int64\n",
       "Trap_T229             int64\n",
       "Trap_T230             int64\n",
       "Trap_T231             int64\n",
       "Trap_T232             int64\n",
       "Trap_T233             int64\n",
       "Trap_T235             int64\n",
       "Trap_T236             int64\n",
       "Trap_T237             int64\n",
       "Trap_T238             int64\n",
       "Trap_T900             int64\n",
       "Trap_T903             int64\n",
       "index                 int64\n",
       "Tmax                  int64\n",
       "Tmin                  int64\n",
       "Tavg                float64\n",
       "DewPoint              int64\n",
       "WetBulb               int64\n",
       "PrecipTotal         float64\n",
       "StnPressure         float64\n",
       "ResultSpeed         float64\n",
       "ResultDir             int64\n",
       "AvgSpeed            float64\n",
       "Length: 159, dtype: object"
      ]
     },
     "execution_count": 72,
     "metadata": {},
     "output_type": "execute_result"
    }
   ],
   "source": [
    "X = clean_train[features]\n",
    "X_kaggle = clean_test[features]\n",
    "y = clean_train['WnvPresent']\n",
    "X.dtypes"
   ]
  },
  {
   "cell_type": "code",
   "execution_count": 73,
   "metadata": {},
   "outputs": [],
   "source": [
    "X_train,X_test,y_train,y_test = train_test_split(X,y, random_state =42)\n"
   ]
  },
  {
   "cell_type": "code",
   "execution_count": 74,
   "metadata": {},
   "outputs": [],
   "source": [
    "from sklearn.utils import resample\n",
    "#rejoin train data on index so it can be downsampled to match classes\n",
    "traindata = X_train.merge(pd.DataFrame(y_train), how = 'left', right_index = True, left_index = True)\n",
    "\n",
    "#separate minority and majority classes\n",
    "train_majority = traindata[traindata['WnvPresent'] == 0]\n",
    "train_minority = traindata[traindata['WnvPresent'] == 1]\n",
    "\n",
    "#upsample minority class\n",
    "train_minority_upsampled = resample(train_minority, \n",
    "                                     replace = True, \n",
    "                                     n_samples = train_majority.shape[0],\n",
    "                                     random_state = 42)\n",
    "#combine classes\n",
    "train_data_upsampled = pd.concat([train_majority, train_minority_upsampled])\n",
    "#split back into X_train and y_train\n",
    "X_train = train_data_upsampled.drop(columns = 'WnvPresent')\n",
    "y_train = train_data_upsampled['WnvPresent']"
   ]
  },
  {
   "cell_type": "code",
   "execution_count": 75,
   "metadata": {},
   "outputs": [],
   "source": [
    "def CART_model_picker(model_list, X_train, y_train, X_test, y_test):\n",
    "    '''Returns cross-val score and score for all input CART models, returns in sorted order of best performing'''\n",
    "    results = []\n",
    "    \n",
    "    for (k,v) in model_list.items():\n",
    "        scores = cross_val_score(v, X_train, y_train, cv = 5, n_jobs = -1)\n",
    "        v.fit(X_train, y_train)\n",
    "        \n",
    "        #calculate AUC\n",
    "        fpr, tpr, _ = roc_curve(y_test, v.predict(X_test))\n",
    "        roc_auc = auc(fpr, tpr)\n",
    "\n",
    "        results.append((k, scores.mean(), v.score(X_test, y_test), roc_auc))\n",
    "    \n",
    "    results.sort(key = lambda x: x[3], reverse = True)\n",
    "    \n",
    "    return results"
   ]
  },
  {
   "cell_type": "code",
   "execution_count": 76,
   "metadata": {},
   "outputs": [],
   "source": [
    "#setting up stratified kfold\n",
    "cv = StratifiedKFold(n_splits = 5, shuffle = True, random_state = 42)"
   ]
  },
  {
   "cell_type": "code",
   "execution_count": 77,
   "metadata": {},
   "outputs": [
    {
     "name": "stderr",
     "output_type": "stream",
     "text": [
      "C:\\Users\\Daniel\\AppData\\Local\\Continuum\\anaconda3\\lib\\site-packages\\sklearn\\ensemble\\forest.py:245: FutureWarning: The default value of n_estimators will change from 10 in version 0.20 to 100 in 0.22.\n",
      "  \"10 in version 0.20 to 100 in 0.22.\", FutureWarning)\n",
      "C:\\Users\\Daniel\\AppData\\Local\\Continuum\\anaconda3\\lib\\site-packages\\sklearn\\ensemble\\forest.py:245: FutureWarning: The default value of n_estimators will change from 10 in version 0.20 to 100 in 0.22.\n",
      "  \"10 in version 0.20 to 100 in 0.22.\", FutureWarning)\n"
     ]
    }
   ],
   "source": [
    "#figure out which CART model performs the best\n",
    "\n",
    "models = {'Decision Tree': DecisionTreeClassifier(),\n",
    "          'Extra Trees': ExtraTreesClassifier(),\n",
    "          'Gradient Boost': GradientBoostingClassifier(),\n",
    "          'AdaBoost': AdaBoostClassifier(),\n",
    "          'Random Forest':RandomForestClassifier(),\n",
    "          'Bagging': BaggingClassifier()\n",
    "         }\n",
    "\n",
    "\n",
    "dt_results = CART_model_picker(models, X_train, y_train, X_test, y_test)"
   ]
  },
  {
   "cell_type": "code",
   "execution_count": 78,
   "metadata": {},
   "outputs": [
    {
     "data": {
      "text/plain": [
       "[('AdaBoost', 0.8209825145711906, 0.7772534214252006, 0.7799843470273412),\n",
       " ('Gradient Boost',\n",
       "  0.8649458784346378,\n",
       "  0.8065125058990089,\n",
       "  0.7685726738464134),\n",
       " ('Random Forest', 0.9815986677768527, 0.9372345445965078, 0.5871341000478025),\n",
       " ('Decision Tree', 0.9695253955037468, 0.9155261915998112, 0.5846455585861711),\n",
       " ('Bagging', 0.9724396336386345, 0.9188296366210477, 0.5685098744950277),\n",
       " ('Extra Trees', 0.9919233971690258, 0.9428975932043416, 0.5588345565147297)]"
      ]
     },
     "execution_count": 78,
     "metadata": {},
     "output_type": "execute_result"
    }
   ],
   "source": [
    "dt_results"
   ]
  },
  {
   "cell_type": "code",
   "execution_count": 79,
   "metadata": {},
   "outputs": [
    {
     "data": {
      "text/plain": [
       "Text(0.5, 1.0, 'Test Scores of CART Models')"
      ]
     },
     "execution_count": 79,
     "metadata": {},
     "output_type": "execute_result"
    },
    {
     "data": {
      "image/png": "[encoded data removed]",
      "text/plain": [
       "<Figure size 432x288 with 1 Axes>"
      ]
     },
     "metadata": {
      "needs_background": "light"
     },
     "output_type": "display_data"
    }
   ],
   "source": [
    "names = []\n",
    "scores = []\n",
    "for dt in dt_results:\n",
    "    names.append(dt[:][0])\n",
    "    scores.append(dt[:][2])\n",
    "    \n",
    "pd.DataFrame(list(zip(names, scores)), columns = ['Model', 'Test_Score']).set_index('Model').sort_values(by = 'Test_Score', ascending = False).plot(kind = 'bar')\n",
    "plt.title('Test Scores of CART Models')"
   ]
  },
  {
   "cell_type": "code",
   "execution_count": 80,
   "metadata": {},
   "outputs": [
    {
     "name": "stdout",
     "output_type": "stream",
     "text": [
      "0.9210657785179017\n"
     ]
    },
    {
     "data": {
      "text/plain": [
       "{'learning_rate': 0.12, 'max_depth': 4, 'n_estimators': 150}"
      ]
     },
     "execution_count": 80,
     "metadata": {},
     "output_type": "execute_result"
    }
   ],
   "source": [
    "gboost = GradientBoostingClassifier()\n",
    "gboost_params = {\n",
    "    'max_depth': [2,3,4],\n",
    "    'n_estimators': [100, 125, 150],\n",
    "    'learning_rate': [.08, .1, .12]\n",
    "}\n",
    "gb_gs = GridSearchCV(gboost, param_grid=gboost_params, cv=3)\n",
    "gb_gs.fit(X_train, y_train)\n",
    "print(gb_gs.best_score_)\n",
    "gb_gs.best_params_"
   ]
  },
  {
   "cell_type": "code",
   "execution_count": 81,
   "metadata": {},
   "outputs": [
    {
     "name": "stdout",
     "output_type": "stream",
     "text": [
      "0.9358034970857618\n"
     ]
    },
    {
     "data": {
      "text/plain": [
       "0.8504011326097216"
      ]
     },
     "execution_count": 81,
     "metadata": {},
     "output_type": "execute_result"
    }
   ],
   "source": [
    "gboost = GradientBoostingClassifier(learning_rate=0.12,max_depth=4,n_estimators=150)\n",
    "gboost.fit(X_train,y_train)\n",
    "print(gboost.score(X_train,y_train))\n",
    "gboost.score(X_test,y_test)"
   ]
  },
  {
   "cell_type": "code",
   "execution_count": 82,
   "metadata": {},
   "outputs": [
    {
     "name": "stdout",
     "output_type": "stream",
     "text": [
      "0.9900915903413822\n"
     ]
    },
    {
     "data": {
      "text/plain": [
       "{'max_depth': None, 'n_estimators': 150}"
      ]
     },
     "execution_count": 82,
     "metadata": {},
     "output_type": "execute_result"
    }
   ],
   "source": [
    "extra_trees = ExtraTreesClassifier()\n",
    "extra_trees_params = {\n",
    "    'n_estimators': [100, 150, 200],\n",
    "    'max_depth': [None, 1, 2, 3, 4, 5]\n",
    "}\n",
    "et_gs = GridSearchCV(extra_trees, param_grid=extra_trees_params, cv=3)\n",
    "et_gs.fit(X_train,y_train)\n",
    "print(et_gs.best_score_)\n",
    "et_gs.best_params_"
   ]
  },
  {
   "cell_type": "code",
   "execution_count": 83,
   "metadata": {},
   "outputs": [
    {
     "name": "stdout",
     "output_type": "stream",
     "text": [
      "1.0\n"
     ]
    },
    {
     "data": {
      "text/plain": [
       "0.9400660689004248"
      ]
     },
     "execution_count": 83,
     "metadata": {},
     "output_type": "execute_result"
    }
   ],
   "source": [
    "et = ExtraTreesClassifier(max_depth=None, n_estimators = 200)\n",
    "et.fit(X_train,y_train)\n",
    "print(et.score(X_train,y_train))\n",
    "et.score(X_test,y_test)"
   ]
  },
  {
   "cell_type": "code",
   "execution_count": 84,
   "metadata": {},
   "outputs": [],
   "source": [
    "xgmodel= xgb.XGBClassifier(seed= 42)\n",
    "\n",
    "eval_set = [(X_train, y_train), (X_test, y_test)]\n",
    "scores = cross_val_score(xgb.XGBClassifier(), X_train, y_train, cv = 5, n_jobs = -1)"
   ]
  },
  {
   "cell_type": "code",
   "execution_count": 85,
   "metadata": {},
   "outputs": [
    {
     "name": "stdout",
     "output_type": "stream",
     "text": [
      "[0]\tvalidation_0-auc:0.818257\tvalidation_1-auc:0.81215\n",
      "[1]\tvalidation_0-auc:0.818257\tvalidation_1-auc:0.81215\n",
      "[2]\tvalidation_0-auc:0.834669\tvalidation_1-auc:0.821132\n",
      "[3]\tvalidation_0-auc:0.84113\tvalidation_1-auc:0.824584\n",
      "[4]\tvalidation_0-auc:0.856667\tvalidation_1-auc:0.841118\n",
      "[5]\tvalidation_0-auc:0.861148\tvalidation_1-auc:0.840848\n",
      "[6]\tvalidation_0-auc:0.869916\tvalidation_1-auc:0.844944\n",
      "[7]\tvalidation_0-auc:0.875286\tvalidation_1-auc:0.848295\n",
      "[8]\tvalidation_0-auc:0.877909\tvalidation_1-auc:0.847951\n",
      "[9]\tvalidation_0-auc:0.882517\tvalidation_1-auc:0.848201\n",
      "[10]\tvalidation_0-auc:0.889971\tvalidation_1-auc:0.852703\n",
      "[11]\tvalidation_0-auc:0.891861\tvalidation_1-auc:0.854753\n",
      "[12]\tvalidation_0-auc:0.891916\tvalidation_1-auc:0.854078\n",
      "[13]\tvalidation_0-auc:0.894195\tvalidation_1-auc:0.854467\n",
      "[14]\tvalidation_0-auc:0.896822\tvalidation_1-auc:0.856679\n",
      "[15]\tvalidation_0-auc:0.898807\tvalidation_1-auc:0.857966\n",
      "[16]\tvalidation_0-auc:0.900125\tvalidation_1-auc:0.859864\n",
      "[17]\tvalidation_0-auc:0.901401\tvalidation_1-auc:0.859461\n",
      "[18]\tvalidation_0-auc:0.90244\tvalidation_1-auc:0.860154\n",
      "[19]\tvalidation_0-auc:0.904283\tvalidation_1-auc:0.860239\n",
      "[20]\tvalidation_0-auc:0.904891\tvalidation_1-auc:0.860761\n",
      "[21]\tvalidation_0-auc:0.90549\tvalidation_1-auc:0.862315\n",
      "[22]\tvalidation_0-auc:0.905844\tvalidation_1-auc:0.862277\n",
      "[23]\tvalidation_0-auc:0.905951\tvalidation_1-auc:0.862409\n",
      "[24]\tvalidation_0-auc:0.906687\tvalidation_1-auc:0.86358\n",
      "[25]\tvalidation_0-auc:0.906706\tvalidation_1-auc:0.863871\n",
      "[26]\tvalidation_0-auc:0.9069\tvalidation_1-auc:0.863946\n",
      "[27]\tvalidation_0-auc:0.907443\tvalidation_1-auc:0.863482\n",
      "[28]\tvalidation_0-auc:0.907892\tvalidation_1-auc:0.863582\n",
      "[29]\tvalidation_0-auc:0.908448\tvalidation_1-auc:0.863463\n",
      "[30]\tvalidation_0-auc:0.909091\tvalidation_1-auc:0.863447\n",
      "[31]\tvalidation_0-auc:0.909524\tvalidation_1-auc:0.862793\n",
      "[32]\tvalidation_0-auc:0.909734\tvalidation_1-auc:0.863144\n",
      "[33]\tvalidation_0-auc:0.91027\tvalidation_1-auc:0.862488\n",
      "[34]\tvalidation_0-auc:0.911078\tvalidation_1-auc:0.862563\n",
      "[35]\tvalidation_0-auc:0.911344\tvalidation_1-auc:0.863039\n",
      "[36]\tvalidation_0-auc:0.91143\tvalidation_1-auc:0.863301\n",
      "[37]\tvalidation_0-auc:0.912187\tvalidation_1-auc:0.864613\n",
      "[38]\tvalidation_0-auc:0.912894\tvalidation_1-auc:0.865281\n",
      "[39]\tvalidation_0-auc:0.912908\tvalidation_1-auc:0.865401\n",
      "[40]\tvalidation_0-auc:0.913084\tvalidation_1-auc:0.865884\n",
      "[41]\tvalidation_0-auc:0.91319\tvalidation_1-auc:0.865199\n",
      "[42]\tvalidation_0-auc:0.913292\tvalidation_1-auc:0.86523\n",
      "[43]\tvalidation_0-auc:0.913351\tvalidation_1-auc:0.865403\n",
      "[44]\tvalidation_0-auc:0.913886\tvalidation_1-auc:0.866448\n",
      "[45]\tvalidation_0-auc:0.914609\tvalidation_1-auc:0.867264\n",
      "[46]\tvalidation_0-auc:0.914654\tvalidation_1-auc:0.867432\n",
      "[47]\tvalidation_0-auc:0.915023\tvalidation_1-auc:0.866926\n",
      "[48]\tvalidation_0-auc:0.915487\tvalidation_1-auc:0.867109\n",
      "[49]\tvalidation_0-auc:0.916014\tvalidation_1-auc:0.866861\n",
      "[50]\tvalidation_0-auc:0.916118\tvalidation_1-auc:0.867278\n",
      "[51]\tvalidation_0-auc:0.916379\tvalidation_1-auc:0.867381\n",
      "[52]\tvalidation_0-auc:0.916681\tvalidation_1-auc:0.868056\n",
      "[53]\tvalidation_0-auc:0.917063\tvalidation_1-auc:0.867306\n",
      "[54]\tvalidation_0-auc:0.917484\tvalidation_1-auc:0.867601\n",
      "[55]\tvalidation_0-auc:0.917631\tvalidation_1-auc:0.867032\n",
      "[56]\tvalidation_0-auc:0.918074\tvalidation_1-auc:0.866769\n",
      "[57]\tvalidation_0-auc:0.918174\tvalidation_1-auc:0.866814\n",
      "[58]\tvalidation_0-auc:0.918184\tvalidation_1-auc:0.866265\n",
      "[59]\tvalidation_0-auc:0.918974\tvalidation_1-auc:0.867144\n",
      "[60]\tvalidation_0-auc:0.919568\tvalidation_1-auc:0.867266\n",
      "[61]\tvalidation_0-auc:0.919911\tvalidation_1-auc:0.867613\n",
      "[62]\tvalidation_0-auc:0.920517\tvalidation_1-auc:0.867807\n",
      "[63]\tvalidation_0-auc:0.920657\tvalidation_1-auc:0.867967\n",
      "[64]\tvalidation_0-auc:0.920782\tvalidation_1-auc:0.867985\n",
      "[65]\tvalidation_0-auc:0.920996\tvalidation_1-auc:0.867653\n",
      "[66]\tvalidation_0-auc:0.92107\tvalidation_1-auc:0.867109\n",
      "[67]\tvalidation_0-auc:0.921133\tvalidation_1-auc:0.86725\n",
      "[68]\tvalidation_0-auc:0.921189\tvalidation_1-auc:0.867142\n",
      "[69]\tvalidation_0-auc:0.9216\tvalidation_1-auc:0.867025\n",
      "[70]\tvalidation_0-auc:0.92217\tvalidation_1-auc:0.867304\n",
      "[71]\tvalidation_0-auc:0.922713\tvalidation_1-auc:0.867304\n",
      "[72]\tvalidation_0-auc:0.922759\tvalidation_1-auc:0.866938\n",
      "[73]\tvalidation_0-auc:0.922834\tvalidation_1-auc:0.867132\n",
      "[74]\tvalidation_0-auc:0.923126\tvalidation_1-auc:0.867203\n",
      "[75]\tvalidation_0-auc:0.923274\tvalidation_1-auc:0.86791\n",
      "[76]\tvalidation_0-auc:0.923239\tvalidation_1-auc:0.867714\n",
      "[77]\tvalidation_0-auc:0.92368\tvalidation_1-auc:0.868231\n",
      "[78]\tvalidation_0-auc:0.924417\tvalidation_1-auc:0.867861\n",
      "[79]\tvalidation_0-auc:0.924873\tvalidation_1-auc:0.867936\n",
      "[80]\tvalidation_0-auc:0.924907\tvalidation_1-auc:0.867589\n",
      "[81]\tvalidation_0-auc:0.925042\tvalidation_1-auc:0.867107\n",
      "[82]\tvalidation_0-auc:0.925098\tvalidation_1-auc:0.866872\n",
      "[83]\tvalidation_0-auc:0.925219\tvalidation_1-auc:0.867355\n",
      "[84]\tvalidation_0-auc:0.925629\tvalidation_1-auc:0.867435\n",
      "[85]\tvalidation_0-auc:0.925866\tvalidation_1-auc:0.866999\n",
      "[86]\tvalidation_0-auc:0.926513\tvalidation_1-auc:0.867489\n",
      "[87]\tvalidation_0-auc:0.927078\tvalidation_1-auc:0.868269\n",
      "[88]\tvalidation_0-auc:0.927432\tvalidation_1-auc:0.868227\n",
      "[89]\tvalidation_0-auc:0.927503\tvalidation_1-auc:0.868203\n",
      "[90]\tvalidation_0-auc:0.927513\tvalidation_1-auc:0.8681\n",
      "[91]\tvalidation_0-auc:0.927819\tvalidation_1-auc:0.868332\n",
      "[92]\tvalidation_0-auc:0.928137\tvalidation_1-auc:0.868431\n",
      "[93]\tvalidation_0-auc:0.928616\tvalidation_1-auc:0.868262\n",
      "[94]\tvalidation_0-auc:0.928801\tvalidation_1-auc:0.867925\n",
      "[95]\tvalidation_0-auc:0.928979\tvalidation_1-auc:0.867161\n",
      "[96]\tvalidation_0-auc:0.929002\tvalidation_1-auc:0.867282\n",
      "[97]\tvalidation_0-auc:0.929006\tvalidation_1-auc:0.867076\n",
      "[98]\tvalidation_0-auc:0.929258\tvalidation_1-auc:0.866692\n",
      "[99]\tvalidation_0-auc:0.929536\tvalidation_1-auc:0.867107\n"
     ]
    },
    {
     "data": {
      "text/plain": [
       "XGBClassifier(base_score=0.5, booster='gbtree', colsample_bylevel=1,\n",
       "              colsample_bynode=1, colsample_bytree=1, gamma=0,\n",
       "              learning_rate=0.1, max_delta_step=0, max_depth=3,\n",
       "              min_child_weight=1, missing=None, n_estimators=100, n_jobs=1,\n",
       "              nthread=None, objective='binary:logistic', random_state=0,\n",
       "              reg_alpha=0, reg_lambda=1, scale_pos_weight=1, seed=42,\n",
       "              silent=None, subsample=1, verbosity=1)"
      ]
     },
     "execution_count": 85,
     "metadata": {},
     "output_type": "execute_result"
    }
   ],
   "source": [
    "xgmodel.fit(X_train, y_train, eval_metric=\"auc\", eval_set=eval_set, verbose=True)"
   ]
  },
  {
   "cell_type": "code",
   "execution_count": 86,
   "metadata": {},
   "outputs": [
    {
     "data": {
      "text/plain": [
       "0.7975460122699386"
      ]
     },
     "execution_count": 86,
     "metadata": {},
     "output_type": "execute_result"
    }
   ],
   "source": [
    "xgmodel.score(X_test, y_test)"
   ]
  },
  {
   "cell_type": "code",
   "execution_count": 89,
   "metadata": {},
   "outputs": [],
   "source": [
    "preds = xgmodel.predict_proba(X_kaggle)[:,1]\n",
    "to_submit = pd.DataFrame({\n",
    "    'Id': test['Id'],\n",
    "    'WnvPresent':preds\n",
    "})\n",
    "to_submit.to_csv('kaggle_answers.csv',index=False)"
   ]
  },
  {
   "cell_type": "code",
   "execution_count": 91,
   "metadata": {},
   "outputs": [
    {
     "data": {
      "text/plain": [
       "Text(0.5, 1.0, 'XGBoost Feature Importances')"
      ]
     },
     "execution_count": 91,
     "metadata": {},
     "output_type": "execute_result"
    },
    {
     "data": {
      "image/png": "[encoded data removed]",
      "text/plain": [
       "<Figure size 432x288 with 1 Axes>"
      ]
     },
     "metadata": {
      "needs_background": "light"
     },
     "output_type": "display_data"
    }
   ],
   "source": [
    "testnames = X_train.columns.tolist()\n",
    "xg_importances = pd.DataFrame(sorted(zip(testnames, xgmodel.feature_importances_), reverse = True), columns = ['Variable', 'Importance']).set_index('Variable')\n",
    "xg_importances.sort_values(by = 'Importance', ascending = False).iloc[:30,:].plot(kind = 'bar')\n",
    "plt.title('XGBoost Feature Importances')"
   ]
  },
  {
   "cell_type": "code",
   "execution_count": 92,
   "metadata": {},
   "outputs": [],
   "source": [
    "preds = gboost.predict_proba(X_kaggle)[:,1]\n",
    "to_submit = pd.DataFrame({\n",
    "    'Id': test['Id'],\n",
    "    'WnvPresent':preds\n",
    "})\n",
    "to_submit.to_csv('kaggle_answers_gb.csv',index=False)"
   ]
  },
  {
   "cell_type": "code",
   "execution_count": 93,
   "metadata": {},
   "outputs": [],
   "source": [
    "preds = et.predict_proba(X_kaggle)[:,1]\n",
    "to_submit = pd.DataFrame({\n",
    "    'Id': test['Id'],\n",
    "    'WnvPresent':preds\n",
    "})\n",
    "to_submit.to_csv('kaggle_answers_et.csv',index=False)"
   ]
  },
  {
   "cell_type": "code",
   "execution_count": null,
   "metadata": {},
   "outputs": [],
   "source": []
  }
 ],
 "metadata": {
  "kernelspec": {
   "display_name": "Python 3",
   "language": "python",
   "name": "python3"
  },
  "language_info": {
   "codemirror_mode": {
    "name": "ipython",
    "version": 3
   },
   "file_extension": ".py",
   "mimetype": "text/x-python",
   "name": "python",
   "nbconvert_exporter": "python",
   "pygments_lexer": "ipython3",
   "version": "3.7.3"
  }
 },
 "nbformat": 4,
 "nbformat_minor": 4
}
