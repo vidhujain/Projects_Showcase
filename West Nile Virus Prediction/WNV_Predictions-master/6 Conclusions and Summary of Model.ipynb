{
 "cells": [
  {
   "cell_type": "markdown",
   "metadata": {},
   "source": [
    "## 1. Summary of Models"
   ]
  },
  {
   "cell_type": "markdown",
   "metadata": {},
   "source": [
    "Several models were tested, and they broadly fall into the following categories:\n",
    "\n",
    "1) CART Models (e.g. Random Forests, Extra Trees, XGBoost)\n",
    "\n",
    "2) Linear Models\n",
    "\n",
    "3) Generalized Additive Models (GAM)\n",
    "\n",
    "An attempt was made to stack the models, but the result was lesser than the sum of its parts - it suffered in terms of both recall score and auc-roc score. As such, we have chosen to omit the bagged model."
   ]
  },
  {
   "cell_type": "markdown",
   "metadata": {},
   "source": [
    "|Model|AUC-ROC Score|Recall Score|Kaggle Score|Notes|\n",
    "|---|---|---|---|---|\n",
    "|Logistic Regression|0.833|80.17%| 0.70 |Used SMOTE|\n",
    "|GAM|0.85|1.5%|0.80|No resampling done, recall score is poor|\n",
    "|CART (Xgb)|0.90|76.4%|0.77|Resampling on minority class|\n",
    "|Clustered CART (Xgb)|0.89|18%|0.77|No resampling|"
   ]
  },
  {
   "cell_type": "markdown",
   "metadata": {},
   "source": [
    "## 2. Feature Strengths"
   ]
  },
  {
   "cell_type": "markdown",
   "metadata": {},
   "source": [
    "1) CART: Month, Week, Bias, SPECIES=CULEX PIPIENS, Tavg (less accurate due to randomness and varies from run to run)\n",
    "\n",
    "2) Logistic Regression: Past week humidity has by far the highest coefficient, followed by SPECIES=CULEX PIPIENS, past 3 days precipitation, and past year precipitation\n",
    "\n",
    "3) GAM: Temperature, Precipitation, drizzles, humidity, length of day, and location to high risk epicentres were key features"
   ]
  },
  {
   "cell_type": "markdown",
   "metadata": {},
   "source": [
    "## 3. Prescriptions"
   ]
  },
  {
   "cell_type": "markdown",
   "metadata": {},
   "source": [
    "On the whole, we find that weather is a strong predictor of WNV. In particular, we note the following:\n",
    "\n",
    "1) Temperature is important - but what's important are the temperatures over a period of time (average over a week, month, and year). Higher than average year-round temperatures lead to mosquito outbreaks. We suggest that parties monitoring mosquito populations track temperature at these levels (week/month/year), and compare them to historical averages to get a sense of whether the conditions are right for mosquito breeding and activity.\n",
    "\n",
    "2) Humidity: High humidity levels create ripe condition for mosquitos. A rolling three day average of humidity is a strong predictor of mosquito activity, and if humidity levels are high, people can be warned to use mosquito repellant or stay away from high risk areas.\n",
    "\n",
    "3) Precipitation: High precipitation facilitates mosquito breeding. When precipitation levels are high, efforts should be made to wipe out mosquito breeding grounds (stagnant pools of water).\n",
    "\n",
    "4) For Chicago in particular, T900 (the airport) is a large mosquito epicentre. Proximity to T900 correlates with a higher incidence of WNV and mosquito count. This may be due to a combination of geographic features and man made features, which create an environment conducive to mosquitos."
   ]
  },
  {
   "cell_type": "code",
   "execution_count": null,
   "metadata": {},
   "outputs": [],
   "source": []
  }
 ],
 "metadata": {
  "kernelspec": {
   "display_name": "Python 3",
   "language": "python",
   "name": "python3"
  },
  "language_info": {
   "codemirror_mode": {
    "name": "ipython",
    "version": 3
   },
   "file_extension": ".py",
   "mimetype": "text/x-python",
   "name": "python",
   "nbconvert_exporter": "python",
   "pygments_lexer": "ipython3",
   "version": "3.7.3"
  }
 },
 "nbformat": 4,
 "nbformat_minor": 2
}
